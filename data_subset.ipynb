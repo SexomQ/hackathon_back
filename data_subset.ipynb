{
 "cells": [
  {
   "cell_type": "code",
   "execution_count": 1,
   "id": "8a3aa7ce",
   "metadata": {},
   "outputs": [],
   "source": [
    "import pandas\n",
    "\n",
    "recipes = pandas.read_csv('./data/recipes.csv', nrows=1000)"
   ]
  },
  {
   "cell_type": "code",
   "execution_count": 2,
   "id": "ac1178cb",
   "metadata": {},
   "outputs": [
    {
     "data": {
      "text/plain": [
       "1000"
      ]
     },
     "execution_count": 2,
     "metadata": {},
     "output_type": "execute_result"
    }
   ],
   "source": [
    "len(recipes)"
   ]
  },
  {
   "cell_type": "code",
   "execution_count": 3,
   "id": "d92e8642",
   "metadata": {},
   "outputs": [
    {
     "data": {
      "text/plain": [
       "0        38\n",
       "1        39\n",
       "2        40\n",
       "3        41\n",
       "4        42\n",
       "       ... \n",
       "995    2087\n",
       "996    2088\n",
       "997    2092\n",
       "998    2100\n",
       "999    2101\n",
       "Name: RecipeId, Length: 1000, dtype: int64"
      ]
     },
     "execution_count": 3,
     "metadata": {},
     "output_type": "execute_result"
    }
   ],
   "source": [
    "recipes['RecipeId']"
   ]
  },
  {
   "cell_type": "code",
   "execution_count": 4,
   "id": "558ee4b6",
   "metadata": {},
   "outputs": [],
   "source": [
    "reviews = pandas.read_csv('./data/reviews.csv', usecols=[\"AuthorId\", \"RecipeId\", \"Rating\"])"
   ]
  },
  {
   "cell_type": "code",
   "execution_count": 5,
   "id": "98ab3d9a",
   "metadata": {},
   "outputs": [],
   "source": [
    "s_reviews = reviews[reviews['RecipeId'].isin(recipes['RecipeId'])]"
   ]
  },
  {
   "cell_type": "code",
   "execution_count": 6,
   "id": "ef89d67c",
   "metadata": {},
   "outputs": [
    {
     "data": {
      "text/plain": [
       "(1401982, 8192)"
      ]
     },
     "execution_count": 6,
     "metadata": {},
     "output_type": "execute_result"
    }
   ],
   "source": [
    "len(reviews), len(s_reviews)"
   ]
  },
  {
   "cell_type": "code",
   "execution_count": 7,
   "id": "d5c23190",
   "metadata": {},
   "outputs": [],
   "source": [
    "s_reviews.to_csv(\"./data/reviews10000.csv\")\n",
    "recipes.to_csv(\"./data/recipes10000.csv\")"
   ]
  }
 ],
 "metadata": {
  "kernelspec": {
   "display_name": "Python 3 (ipykernel)",
   "language": "python",
   "name": "python3"
  },
  "language_info": {
   "codemirror_mode": {
    "name": "ipython",
    "version": 3
   },
   "file_extension": ".py",
   "mimetype": "text/x-python",
   "name": "python",
   "nbconvert_exporter": "python",
   "pygments_lexer": "ipython3",
   "version": "3.10.8"
  }
 },
 "nbformat": 4,
 "nbformat_minor": 5
}
